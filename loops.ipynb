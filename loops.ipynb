{
 "cells": [
  {
   "cell_type": "code",
   "execution_count": 1,
   "metadata": {},
   "outputs": [
    {
     "name": "stdout",
     "output_type": "stream",
     "text": [
      "0\n",
      "2\n",
      "3\n",
      "4\n",
      "5\n"
     ]
    }
   ],
   "source": [
    "x = [0,2,3,4,5]\n",
    "for i in x:\n",
    "    print(i)"
   ]
  },
  {
   "cell_type": "code",
   "execution_count": 1,
   "metadata": {},
   "outputs": [
    {
     "name": "stdout",
     "output_type": "stream",
     "text": [
      "We got red\n",
      "We got pink\n",
      "We got purple\n"
     ]
    }
   ],
   "source": [
    "colors = ['red','pink','purple']\n",
    "for val in colors:\n",
    "    print(f'We got {val}')"
   ]
  },
  {
   "cell_type": "code",
   "execution_count": 6,
   "metadata": {},
   "outputs": [
    {
     "name": "stdout",
     "output_type": "stream",
     "text": [
      "1😂2😂3😂4😂5😂6😂7😂8😂9😂10😂11😂12😂13😂14😂15😂16😂17😂18😂19😂20😂21😂22😂23😂24😂25😂26😂27😂28😂29😂30😂"
     ]
    }
   ],
   "source": [
    "for i in range(1,31):\n",
    "    print(i, end=\"😂\")"
   ]
  },
  {
   "cell_type": "code",
   "execution_count": 7,
   "metadata": {},
   "outputs": [
    {
     "name": "stdout",
     "output_type": "stream",
     "text": [
      "2 X 1 = 2\n",
      "2 X 2 = 4\n",
      "2 X 3 = 6\n",
      "2 X 4 = 8\n",
      "2 X 5 = 10\n",
      "2 X 6 = 12\n",
      "2 X 7 = 14\n",
      "2 X 8 = 16\n",
      "2 X 9 = 18\n",
      "2 X 10 = 20\n"
     ]
    }
   ],
   "source": [
    "for i in range(1,11):\n",
    "    print(f'2 X {i} = {2 * i}')"
   ]
  },
  {
   "cell_type": "code",
   "execution_count": 1,
   "metadata": {},
   "outputs": [
    {
     "name": "stdout",
     "output_type": "stream",
     "text": [
      "1 6 11 16 21 26 31 36 41 46 51 56 61 66 71 76 81 86 91 96 "
     ]
    }
   ],
   "source": [
    "for i in range(1, 100, 5):\n",
    "    print(i, end=' ')"
   ]
  },
  {
   "cell_type": "code",
   "execution_count": 2,
   "metadata": {},
   "outputs": [
    {
     "name": "stdout",
     "output_type": "stream",
     "text": [
      "10 9 8 7 6 5 4 3 2 1 "
     ]
    }
   ],
   "source": [
    "#reverse loop\n",
    "for i in range(10, 0, -1):\n",
    "    print(i, end=' ')"
   ]
  },
  {
   "cell_type": "code",
   "execution_count": 3,
   "metadata": {},
   "outputs": [
    {
     "name": "stdout",
     "output_type": "stream",
     "text": [
      "potato\n",
      "tomato\n",
      "onion\n",
      "cabbage\n",
      "carrot\n"
     ]
    }
   ],
   "source": [
    "veg = ['potato', 'tomato', 'onion', 'cabbage', 'carrot']\n",
    "for item in veg:\n",
    "    print(item)"
   ]
  },
  {
   "cell_type": "code",
   "execution_count": 4,
   "metadata": {},
   "outputs": [
    {
     "name": "stdout",
     "output_type": "stream",
     "text": [
      "(0, 'potato')\n",
      "(1, 'tomato')\n",
      "(2, 'onion')\n",
      "(3, 'cabbage')\n",
      "(4, 'carrot')\n"
     ]
    }
   ],
   "source": [
    "#enumerate()\n",
    "for item in enumerate(veg):\n",
    "    print(item)"
   ]
  },
  {
   "cell_type": "code",
   "execution_count": 5,
   "metadata": {},
   "outputs": [
    {
     "name": "stdout",
     "output_type": "stream",
     "text": [
      "0 got potato\n",
      "1 got tomato\n",
      "2 got onion\n",
      "3 got cabbage\n",
      "4 got carrot\n"
     ]
    }
   ],
   "source": [
    "for index, value in enumerate(veg):\n",
    "    print(index,'got', value)"
   ]
  },
  {
   "cell_type": "code",
   "execution_count": 6,
   "metadata": {},
   "outputs": [],
   "source": [
    "#zip\n",
    "veg = ['potato', 'tomato', 'onion', 'cabbage', 'carrot']\n",
    "prices = [35, 80, 30, 15, 30]"
   ]
  },
  {
   "cell_type": "code",
   "execution_count": 7,
   "metadata": {},
   "outputs": [
    {
     "name": "stdout",
     "output_type": "stream",
     "text": [
      "potato ------- 35\n",
      "tomato ------- 80\n",
      "onion ------- 30\n",
      "cabbage ------- 15\n",
      "carrot ------- 30\n"
     ]
    }
   ],
   "source": [
    "for i in range(5):\n",
    "    print(f'{veg[i]} ------- {prices[i]}')"
   ]
  },
  {
   "cell_type": "code",
   "execution_count": 8,
   "metadata": {},
   "outputs": [
    {
     "name": "stdout",
     "output_type": "stream",
     "text": [
      "potato ----- 35\n",
      "tomato ----- 80\n",
      "onion ----- 30\n",
      "cabbage ----- 15\n",
      "carrot ----- 30\n"
     ]
    }
   ],
   "source": [
    "for v,p in zip(veg, prices):\n",
    "    print(f'{v} ----- {p}')"
   ]
  },
  {
   "cell_type": "markdown",
   "metadata": {},
   "source": [
    "### wap to print the following lists using zip\n",
    "- list1 contains movie title\n",
    "- list2 contains movie rating\n",
    "- list3 contains movie year\n",
    "- list4 contains movie director"
   ]
  },
  {
   "cell_type": "code",
   "execution_count": 2,
   "metadata": {},
   "outputs": [],
   "source": [
    "movie = ['Ironman', 'Captain America : Civil War', 'Doctor Strange', 'Black Panther', 'Thor']\n",
    "rating = [8.2,8.0,8.5,9.0,8.6]\n",
    "year = [2008,2016,2016,2018,2011]\n",
    "director = ['Jon Favreau','Anthony & Joe Russo', 'Scott Derrickson','Ryan Coogler','Kenneth Branagh']"
   ]
  },
  {
   "cell_type": "code",
   "execution_count": 3,
   "metadata": {},
   "outputs": [
    {
     "name": "stdout",
     "output_type": "stream",
     "text": [
      "Ironman ----- 8.2 ----- 2008 ----- Jon Favreau\n",
      "Captain America : Civil War ----- 8.0 ----- 2016 ----- Anthony & Joe Russo\n",
      "Doctor Strange ----- 8.5 ----- 2016 ----- Scott Derrickson\n",
      "Black Panther ----- 9.0 ----- 2018 ----- Ryan Coogler\n",
      "Thor ----- 8.6 ----- 2011 ----- Kenneth Branagh\n"
     ]
    }
   ],
   "source": [
    "for m,r,y,d in zip(movie, rating, year, director):\n",
    "    print(f'{m} ----- {r} ----- {y} ----- {d}')"
   ]
  },
  {
   "cell_type": "code",
   "execution_count": 4,
   "metadata": {},
   "outputs": [
    {
     "name": "stdout",
     "output_type": "stream",
     "text": [
      "1\n",
      "2\n",
      "3\n",
      "4\n"
     ]
    }
   ],
   "source": [
    "x = [1,2,3,4,0,0,5]\n",
    "for i in x:\n",
    "    if i == 0:\n",
    "        break\n",
    "    print(i)"
   ]
  },
  {
   "cell_type": "code",
   "execution_count": 5,
   "metadata": {},
   "outputs": [
    {
     "name": "stdout",
     "output_type": "stream",
     "text": [
      "1\n",
      "2\n",
      "3\n",
      "4\n",
      "5\n"
     ]
    }
   ],
   "source": [
    "x = [1,2,0,3,4,0,0,5]\n",
    "for i in x:\n",
    "    if i == 0:\n",
    "        continue\n",
    "    print(i)\n"
   ]
  },
  {
   "cell_type": "code",
   "execution_count": 14,
   "metadata": {},
   "outputs": [
    {
     "name": "stdout",
     "output_type": "stream",
     "text": [
      "It is not a prime number\n"
     ]
    }
   ],
   "source": [
    "num = int(input())\n",
    "temp=0\n",
    "for i in range(2,num):\n",
    "    if num%i==0:\n",
    "        temp+=1\n",
    "if temp==0:\n",
    "    print('It is a prime number')\n",
    "else:\n",
    "    print('It is not a prime number')"
   ]
  },
  {
   "cell_type": "code",
   "execution_count": 8,
   "metadata": {},
   "outputs": [
    {
     "name": "stdout",
     "output_type": "stream",
     "text": [
      "0\n",
      "1\n",
      "2\n"
     ]
    }
   ],
   "source": [
    "for i in range(5):\n",
    "    if i == 3:\n",
    "        break\n",
    "    print(i)\n",
    "else:\n",
    "    print('done')\n"
   ]
  },
  {
   "cell_type": "code",
   "execution_count": null,
   "metadata": {},
   "outputs": [],
   "source": []
  }
 ],
 "metadata": {
  "kernelspec": {
   "display_name": "Python 3.10.6 ('py310')",
   "language": "python",
   "name": "python3"
  },
  "language_info": {
   "codemirror_mode": {
    "name": "ipython",
    "version": 3
   },
   "file_extension": ".py",
   "mimetype": "text/x-python",
   "name": "python",
   "nbconvert_exporter": "python",
   "pygments_lexer": "ipython3",
   "version": "3.10.6"
  },
  "orig_nbformat": 4,
  "vscode": {
   "interpreter": {
    "hash": "40f23ab015b21bd721f31241608a9d4489469c36a55f21a685c77ec10451e816"
   }
  }
 },
 "nbformat": 4,
 "nbformat_minor": 2
}
