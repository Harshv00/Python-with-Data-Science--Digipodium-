{
 "cells": [
  {
   "cell_type": "code",
   "execution_count": 2,
   "metadata": {},
   "outputs": [],
   "source": [
    "emp_dict = {\n",
    "    'fname' : 'Amar',\n",
    "    'lname' : 'deep',\n",
    "    'dept' : 'finance',\n",
    "    'age' : 31,\n",
    "    'salary' : '10000',\n",
    "    'its_manager' : True\n",
    "}"
   ]
  },
  {
   "cell_type": "code",
   "execution_count": 3,
   "metadata": {},
   "outputs": [
    {
     "name": "stdout",
     "output_type": "stream",
     "text": [
      "{'fname': 'Amar', 'lname': 'deep', 'dept': 'finance', 'age': 31, 'salary': '10000', 'its_manager': True}\n"
     ]
    }
   ],
   "source": [
    "print(emp_dict)"
   ]
  },
  {
   "cell_type": "code",
   "execution_count": 4,
   "metadata": {},
   "outputs": [],
   "source": [
    "#complex data\n",
    "\n",
    "weather_data = {\n",
    "'date' : '2019-01-01',\n",
    "'temp' : 32,\n",
    "'details' : {\n",
    "'humidity' : 80,\n",
    "'wind' : 10,\n",
    "'pressure' : 30,\n",
    "'aqi' : 120\n",
    "},\n",
    "'city' : 'lucknow',\n",
    "'type' : 'sunshine',\n",
    "'icon' : '🎇'\n",
    "}"
   ]
  },
  {
   "cell_type": "markdown",
   "metadata": {},
   "source": [
    "accesing data from dictionary"
   ]
  },
  {
   "cell_type": "code",
   "execution_count": 5,
   "metadata": {},
   "outputs": [
    {
     "data": {
      "text/plain": [
       "['date', 'temp', 'details', 'city', 'type', 'icon']"
      ]
     },
     "execution_count": 5,
     "metadata": {},
     "output_type": "execute_result"
    }
   ],
   "source": [
    "list(weather_data.keys())"
   ]
  },
  {
   "cell_type": "code",
   "execution_count": 6,
   "metadata": {},
   "outputs": [
    {
     "data": {
      "text/plain": [
       "['2019-01-01',\n",
       " 32,\n",
       " {'humidity': 80, 'wind': 10, 'pressure': 30, 'aqi': 120},\n",
       " 'lucknow',\n",
       " 'sunshine',\n",
       " '🎇']"
      ]
     },
     "execution_count": 6,
     "metadata": {},
     "output_type": "execute_result"
    }
   ],
   "source": [
    "list(weather_data.values())"
   ]
  },
  {
   "cell_type": "code",
   "execution_count": 7,
   "metadata": {},
   "outputs": [
    {
     "data": {
      "text/plain": [
       "['fname', 'lname', 'dept', 'age', 'salary', 'its_manager']"
      ]
     },
     "execution_count": 7,
     "metadata": {},
     "output_type": "execute_result"
    }
   ],
   "source": [
    "list(emp_dict.keys())"
   ]
  },
  {
   "cell_type": "code",
   "execution_count": 8,
   "metadata": {},
   "outputs": [
    {
     "data": {
      "text/plain": [
       "['Amar', 'deep', 'finance', 31, '10000', True]"
      ]
     },
     "execution_count": 8,
     "metadata": {},
     "output_type": "execute_result"
    }
   ],
   "source": [
    "list(emp_dict.values())"
   ]
  },
  {
   "cell_type": "code",
   "execution_count": 9,
   "metadata": {},
   "outputs": [
    {
     "data": {
      "text/plain": [
       "'lucknow'"
      ]
     },
     "execution_count": 9,
     "metadata": {},
     "output_type": "execute_result"
    }
   ],
   "source": [
    "weather_data['city']"
   ]
  },
  {
   "cell_type": "code",
   "execution_count": 10,
   "metadata": {},
   "outputs": [
    {
     "data": {
      "text/plain": [
       "{'humidity': 80, 'wind': 10, 'pressure': 30, 'aqi': 120}"
      ]
     },
     "execution_count": 10,
     "metadata": {},
     "output_type": "execute_result"
    }
   ],
   "source": [
    "weather_data['details']"
   ]
  },
  {
   "cell_type": "code",
   "execution_count": 11,
   "metadata": {},
   "outputs": [
    {
     "data": {
      "text/plain": [
       "32"
      ]
     },
     "execution_count": 11,
     "metadata": {},
     "output_type": "execute_result"
    }
   ],
   "source": [
    "weather_data.get('temp')"
   ]
  },
  {
   "cell_type": "code",
   "execution_count": 12,
   "metadata": {},
   "outputs": [],
   "source": [
    "weather_data.get('location')"
   ]
  },
  {
   "cell_type": "code",
   "execution_count": 13,
   "metadata": {},
   "outputs": [
    {
     "data": {
      "text/plain": [
       "'lucknow'"
      ]
     },
     "execution_count": 13,
     "metadata": {},
     "output_type": "execute_result"
    }
   ],
   "source": [
    "weather_data.get('city','not found')"
   ]
  },
  {
   "cell_type": "code",
   "execution_count": 14,
   "metadata": {},
   "outputs": [
    {
     "data": {
      "text/plain": [
       "'not found'"
      ]
     },
     "execution_count": 14,
     "metadata": {},
     "output_type": "execute_result"
    }
   ],
   "source": [
    "weather_data.get('location','not found')"
   ]
  },
  {
   "cell_type": "markdown",
   "metadata": {},
   "source": [
    "looping over a dictionary"
   ]
  },
  {
   "cell_type": "code",
   "execution_count": 15,
   "metadata": {},
   "outputs": [
    {
     "name": "stdout",
     "output_type": "stream",
     "text": [
      "fname => Amar\n",
      "lname => deep\n",
      "dept => finance\n",
      "age => 31\n",
      "salary => 10000\n",
      "its_manager => True\n"
     ]
    }
   ],
   "source": [
    "for k in emp_dict:\n",
    "    print(k,'=>',emp_dict[k])"
   ]
  },
  {
   "cell_type": "markdown",
   "metadata": {},
   "source": [
    "looping over a dictionary using items()"
   ]
  },
  {
   "cell_type": "code",
   "execution_count": 16,
   "metadata": {},
   "outputs": [
    {
     "name": "stdout",
     "output_type": "stream",
     "text": [
      "fname => Amar\n",
      "lname => deep\n",
      "dept => finance\n",
      "age => 31\n",
      "salary => 10000\n",
      "its_manager => True\n"
     ]
    }
   ],
   "source": [
    "for k,v in emp_dict.items():\n",
    "    print(k,'=>',v)"
   ]
  },
  {
   "cell_type": "markdown",
   "metadata": {},
   "source": [
    "#updating an entry in dictionary"
   ]
  },
  {
   "cell_type": "code",
   "execution_count": 17,
   "metadata": {},
   "outputs": [],
   "source": [
    "weather_data['temp'] = 35"
   ]
  },
  {
   "cell_type": "code",
   "execution_count": 18,
   "metadata": {},
   "outputs": [
    {
     "data": {
      "text/plain": [
       "{'date': '2019-01-01',\n",
       " 'temp': 35,\n",
       " 'details': {'humidity': 80, 'wind': 10, 'pressure': 30, 'aqi': 120},\n",
       " 'city': 'lucknow',\n",
       " 'type': 'sunshine',\n",
       " 'icon': '🎇'}"
      ]
     },
     "execution_count": 18,
     "metadata": {},
     "output_type": "execute_result"
    }
   ],
   "source": [
    "weather_data"
   ]
  },
  {
   "cell_type": "code",
   "execution_count": 19,
   "metadata": {},
   "outputs": [
    {
     "name": "stdout",
     "output_type": "stream",
     "text": [
      "{'fname': 'Amar', 'lname': 'deep', 'dept': 'finance', 'age': 31, 'salary': '10000', 'its_manager': True, 'designation': 'Asst A'}\n"
     ]
    }
   ],
   "source": [
    "#adding\n",
    "emp_dict['designation'] = 'Asst A'\n",
    "print(emp_dict)"
   ]
  },
  {
   "cell_type": "code",
   "execution_count": 21,
   "metadata": {},
   "outputs": [
    {
     "name": "stdout",
     "output_type": "stream",
     "text": [
      "{'fname': 'Amar', 'lname': 'deep', 'dept': 'finance', 'age': 31, 'salary': 30000, 'its_manager': True, 'designation': 'section manager'}\n"
     ]
    }
   ],
   "source": [
    "#updating\n",
    "emp_dict['designation'] = 'section manager'\n",
    "emp_dict['salary'] = 30000\n",
    "print(emp_dict)"
   ]
  },
  {
   "cell_type": "code",
   "execution_count": 27,
   "metadata": {},
   "outputs": [
    {
     "name": "stdout",
     "output_type": "stream",
     "text": [
      "{'fname': 'Amar', 'lname': 'deep', 'dept': 'finance', 'age': 31, 'salary': 30000, 'its_manager': True}\n"
     ]
    }
   ],
   "source": [
    "if 'designation' in emp_dict:\n",
    "    emp_dict.pop('designation')\n",
    "print(emp_dict)"
   ]
  },
  {
   "cell_type": "code",
   "execution_count": 30,
   "metadata": {},
   "outputs": [],
   "source": [
    "reports = {\n",
    "    '001': {\n",
    "        'name': 'Amar',\n",
    "        'subjects': {'English': 80, 'Maths': 90, 'Science': 95}\n",
    "    },\n",
    "    '002': {\n",
    "        'name': 'Vijay',\n",
    "        'subjects': {'English': 70, 'Maths': 60, 'Science': 85}\n",
    "    },\n",
    "    '003': {\n",
    "        'name': 'Raj',\n",
    "        'subjects': {'English': 60, 'Maths': 50, 'Science': 45}\n",
    "    },\n",
    "}"
   ]
  },
  {
   "cell_type": "code",
   "execution_count": 31,
   "metadata": {},
   "outputs": [
    {
     "data": {
      "text/plain": [
       "{'001': {'name': 'Amar',\n",
       "  'subjects': {'English': 80, 'Maths': 90, 'Science': 95}},\n",
       " '002': {'name': 'Vijay',\n",
       "  'subjects': {'English': 70, 'Maths': 60, 'Science': 85}},\n",
       " '003': {'name': 'Raj',\n",
       "  'subjects': {'English': 60, 'Maths': 50, 'Science': 45}}}"
      ]
     },
     "execution_count": 31,
     "metadata": {},
     "output_type": "execute_result"
    }
   ],
   "source": [
    "reports"
   ]
  },
  {
   "cell_type": "code",
   "execution_count": 41,
   "metadata": {},
   "outputs": [
    {
     "name": "stdout",
     "output_type": "stream",
     "text": [
      "001\n",
      "name Amar\n",
      "subjects\n",
      "English 80\n",
      "Total: 80/300\n",
      "Percentage: 26.67%\n",
      "Maths 90\n",
      "Total: 170/300\n",
      "Percentage: 56.67%\n",
      "Science 95\n",
      "Total: 265/300\n",
      "Percentage: 88.33%\n",
      "--------------------\n",
      "002\n",
      "name Vijay\n",
      "subjects\n",
      "English 70\n",
      "Total: 70/300\n",
      "Percentage: 23.33%\n",
      "Maths 60\n",
      "Total: 130/300\n",
      "Percentage: 43.33%\n",
      "Science 85\n",
      "Total: 215/300\n",
      "Percentage: 71.67%\n",
      "--------------------\n",
      "003\n",
      "name Raj\n",
      "subjects\n",
      "English 60\n",
      "Total: 60/300\n",
      "Percentage: 20.00%\n",
      "Maths 50\n",
      "Total: 110/300\n",
      "Percentage: 36.67%\n",
      "Science 45\n",
      "Total: 155/300\n",
      "Percentage: 51.67%\n",
      "--------------------\n"
     ]
    }
   ],
   "source": [
    "for roll, data in reports.items():\n",
    "    print(roll)\n",
    "    for key, val in data.items():\n",
    "        if isinstance(val, dict):\n",
    "            print(key)\n",
    "            total = 0#before loop set total marks to 0\n",
    "            for sub, marks in val.items():\n",
    "                print(sub, marks)\n",
    "                total += marks #add marks to total\n",
    "                print(f'Total: {total}/300')#display\n",
    "                print(f'Percentage: {total/300*100:.2f}%')#display\n",
    "        else:\n",
    "            print(key, val)\n",
    "    print('--'*10)"
   ]
  },
  {
   "cell_type": "markdown",
   "metadata": {},
   "source": [
    "File Handling \n",
    " - open a file\n",
    " - reading a file\n",
    " - writing a file\n",
    " - appending a file"
   ]
  },
  {
   "cell_type": "code",
   "execution_count": 44,
   "metadata": {},
   "outputs": [
    {
     "name": "stdout",
     "output_type": "stream",
     "text": [
      "name = input(\"Enter your name\")\n",
      "print('Welcome', name)\n",
      "amount = input(\"How much tea will you take\")\n",
      "print('Why would you want', amount,'tea')\n"
     ]
    }
   ],
   "source": [
    "f = open('example.py')\n",
    "print(f.read())"
   ]
  },
  {
   "cell_type": "code",
   "execution_count": 49,
   "metadata": {},
   "outputs": [
    {
     "name": "stdout",
     "output_type": "stream",
     "text": [
      "5 characters\n"
     ]
    }
   ],
   "source": [
    "f = open(r'C:\\Users\\harsh\\OneDrive\\Desktop\\hello.txt')\n",
    "content = f.read()\n",
    "print(f'{len(content)} characters')"
   ]
  },
  {
   "cell_type": "code",
   "execution_count": 52,
   "metadata": {},
   "outputs": [],
   "source": [
    "data = 'hi everyone, this is a sample file'\n",
    "with open('mydata.txt', 'w') as file: \n",
    "    file.write(data)"
   ]
  },
  {
   "cell_type": "code",
   "execution_count": 57,
   "metadata": {},
   "outputs": [],
   "source": [
    "data = '\\n this is a new file going to be written'\n",
    "with open('mydata.txt', 'a') as file: \n",
    "    file.write(data)"
   ]
  },
  {
   "cell_type": "code",
   "execution_count": 58,
   "metadata": {},
   "outputs": [
    {
     "name": "stdout",
     "output_type": "stream",
     "text": [
      "File bio.txt saved\n"
     ]
    }
   ],
   "source": [
    "file = 'bio.txt'\n",
    "content = ''\n",
    "while True:\n",
    "    line = input('Enter a line(or q to quit):')\n",
    "    if line == 'q':\n",
    "        break\n",
    "    content += line + '\\n'\n",
    "with open(file,'w') as f :\n",
    "    f.write(content)\n",
    "    print(f'File {file} saved')"
   ]
  },
  {
   "cell_type": "code",
   "execution_count": null,
   "metadata": {},
   "outputs": [],
   "source": []
  }
 ],
 "metadata": {
  "kernelspec": {
   "display_name": "Python 3.9.12 ('base')",
   "language": "python",
   "name": "python3"
  },
  "language_info": {
   "codemirror_mode": {
    "name": "ipython",
    "version": 3
   },
   "file_extension": ".py",
   "mimetype": "text/x-python",
   "name": "python",
   "nbconvert_exporter": "python",
   "pygments_lexer": "ipython3",
   "version": "3.9.12"
  },
  "orig_nbformat": 4,
  "vscode": {
   "interpreter": {
    "hash": "324500810f1b16834aa1bf87032153753ee365449c3fdfc2dea88bf378834d1a"
   }
  }
 },
 "nbformat": 4,
 "nbformat_minor": 2
}
