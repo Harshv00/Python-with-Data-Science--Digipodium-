{
 "cells": [
  {
   "cell_type": "code",
   "execution_count": 1,
   "metadata": {},
   "outputs": [
    {
     "name": "stdout",
     "output_type": "stream",
     "text": [
      "100 is greater than 10\n"
     ]
    }
   ],
   "source": [
    "if 100>10:\n",
    "    print('100 is greater than 10')"
   ]
  },
  {
   "cell_type": "code",
   "execution_count": 2,
   "metadata": {},
   "outputs": [],
   "source": [
    "if 5 > 10:\n",
    "    print('5 is greater than 100')"
   ]
  },
  {
   "cell_type": "code",
   "execution_count": 3,
   "metadata": {},
   "outputs": [
    {
     "name": "stdout",
     "output_type": "stream",
     "text": [
      "this is great\n",
      "10 is greater than 20\n"
     ]
    }
   ],
   "source": [
    "a = 10\n",
    "b = 20\n",
    "if a < b :\n",
    "    print('this is great')\n",
    "    print(f'{a} is greater than {b}')"
   ]
  },
  {
   "cell_type": "code",
   "execution_count": 4,
   "metadata": {},
   "outputs": [
    {
     "name": "stdout",
     "output_type": "stream",
     "text": [
      "this is a numeric\n"
     ]
    }
   ],
   "source": [
    "data = input(\"enter a data: \")\n",
    "if data.isalpha():\n",
    "    print(\"this is a string\")\n",
    "if data.isnumeric():\n",
    "    print(\"this is a numeric\")\n",
    "if data.isspace():\n",
    "    print(\"this is a space\")"
   ]
  },
  {
   "cell_type": "code",
   "execution_count": 5,
   "metadata": {},
   "outputs": [
    {
     "ename": "ValueError",
     "evalue": "invalid literal for int() with base 10: 'sdfg'",
     "output_type": "error",
     "traceback": [
      "\u001b[1;31m---------------------------------------------------------------------------\u001b[0m",
      "\u001b[1;31mValueError\u001b[0m                                Traceback (most recent call last)",
      "\u001b[1;32mc:\\Users\\harsh\\OneDrive\\Desktop\\Python with Data Science\\conditions.ipynb Cell 5\u001b[0m in \u001b[0;36m<cell line: 1>\u001b[1;34m()\u001b[0m\n\u001b[1;32m----> <a href='vscode-notebook-cell:/c%3A/Users/harsh/OneDrive/Desktop/Python%20with%20Data%20Science/conditions.ipynb#W4sZmlsZQ%3D%3D?line=0'>1</a>\u001b[0m temp \u001b[39m=\u001b[39m \u001b[39mint\u001b[39;49m(\u001b[39minput\u001b[39;49m())\n\u001b[0;32m      <a href='vscode-notebook-cell:/c%3A/Users/harsh/OneDrive/Desktop/Python%20with%20Data%20Science/conditions.ipynb#W4sZmlsZQ%3D%3D?line=1'>2</a>\u001b[0m \u001b[39mif\u001b[39;00m temp \u001b[39m>\u001b[39m \u001b[39m25\u001b[39m:\n\u001b[0;32m      <a href='vscode-notebook-cell:/c%3A/Users/harsh/OneDrive/Desktop/Python%20with%20Data%20Science/conditions.ipynb#W4sZmlsZQ%3D%3D?line=2'>3</a>\u001b[0m     \u001b[39mprint\u001b[39m(\u001b[39m\"\u001b[39m\u001b[39mIts hot\u001b[39m\u001b[39m\"\u001b[39m)\n",
      "\u001b[1;31mValueError\u001b[0m: invalid literal for int() with base 10: 'sdfg'"
     ]
    }
   ],
   "source": [
    "temp = int(input())\n",
    "if temp > 25:\n",
    "    print(\"Its hot\")\n",
    "else :\n",
    "    print(\"its good\")"
   ]
  },
  {
   "cell_type": "code",
   "execution_count": null,
   "metadata": {},
   "outputs": [
    {
     "name": "stdout",
     "output_type": "stream",
     "text": [
      "Banana is a good source of Potassium\n"
     ]
    }
   ],
   "source": [
    "fruit = input(\"what fruit do you like\")\n",
    "if fruit == 'apple':\n",
    "    print('An apple a day keeps the doctor away')\n",
    "elif fruit == 'mango':\n",
    "    print('Mango is the king of fruits')\n",
    "elif fruit == 'banana':\n",
    "    print('Banana is a good source of Potassium')\n",
    "elif fruit == 'orange':\n",
    "    print('Orange is a good source of vitamin C')\n",
    "else:\n",
    "    print('Not found in the database')\n"
   ]
  },
  {
   "cell_type": "code",
   "execution_count": null,
   "metadata": {},
   "outputs": [
    {
     "name": "stdout",
     "output_type": "stream",
     "text": [
      "wrong username\n"
     ]
    }
   ],
   "source": [
    "username = input(\"Enter your username: \")\n",
    "password = input(\"Enter your password: \")\n",
    "if username == 'harsh':\n",
    "    if password == '123':\n",
    "        print(\"welcome harsh\")\n",
    "    else:\n",
    "        print(\"wrong password\")\n",
    "else:\n",
    "    print(\"wrong username\")"
   ]
  },
  {
   "cell_type": "code",
   "execution_count": null,
   "metadata": {},
   "outputs": [
    {
     "name": "stdout",
     "output_type": "stream",
     "text": [
      "wrong username or password\n"
     ]
    }
   ],
   "source": [
    "# this can also be written as\n",
    "if username == 'harsh' and password == '123':\n",
    "    print('welcome harsh')\n",
    "else:\n",
    "    print('wrong username or password')"
   ]
  },
  {
   "cell_type": "code",
   "execution_count": 3,
   "metadata": {},
   "outputs": [
    {
     "name": "stdout",
     "output_type": "stream",
     "text": [
      "your hra is: 4000.0\n",
      "your da is: 16000.0\n",
      "your salary is: 20000.0\n",
      "your total is: 20000.0\n"
     ]
    }
   ],
   "source": [
    "salary=float(input(\"Enter your salary:\"))\n",
    "if salary<10000:\n",
    "    hra=0.1*salary\n",
    "    da=0.9*salary \n",
    "elif salary>10000:\n",
    "    hra=0.2*salary\n",
    "    da=0.8*salary \n",
    "elif salary>20000:\n",
    "    hra=0.25*salary\n",
    "    da=0.75*salary\n",
    "total = salary + hra + da \n",
    "print(\"your hra is:\", hra)\n",
    "print(\"your da is:\",da) \n",
    "print(\"your salary is:\",salary)\n",
    "print(\"your total is:\", total)\n",
    "\n"
   ]
  },
  {
   "cell_type": "code",
   "execution_count": 4,
   "metadata": {},
   "outputs": [
    {
     "name": "stdout",
     "output_type": "stream",
     "text": [
      "vanilla = 100.00\n"
     ]
    }
   ],
   "source": [
    "icecream = input(\"enter the icecream name->\")\n",
    "match(icecream):\n",
    "    case \"chocolate\":\n",
    "        print(\"chocolate = 200.00\")\n",
    "    case \"vanilla\":\n",
    "        print(\"vanilla = 100.00\")\n",
    "    case \"strawberry\":\n",
    "        print(\"strawberry = 150.00\")\n",
    "    case _:\n",
    "        print(\"not available\")\n",
    "        \n",
    "\n"
   ]
  },
  {
   "cell_type": "code",
   "execution_count": null,
   "metadata": {},
   "outputs": [],
   "source": []
  }
 ],
 "metadata": {
  "kernelspec": {
   "display_name": "Python 3.10.6 ('py310')",
   "language": "python",
   "name": "python3"
  },
  "language_info": {
   "codemirror_mode": {
    "name": "ipython",
    "version": 3
   },
   "file_extension": ".py",
   "mimetype": "text/x-python",
   "name": "python",
   "nbconvert_exporter": "python",
   "pygments_lexer": "ipython3",
   "version": "3.10.6"
  },
  "orig_nbformat": 4,
  "vscode": {
   "interpreter": {
    "hash": "40f23ab015b21bd721f31241608a9d4489469c36a55f21a685c77ec10451e816"
   }
  }
 },
 "nbformat": 4,
 "nbformat_minor": 2
}
