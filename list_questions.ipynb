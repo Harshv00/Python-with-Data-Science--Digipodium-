{
 "cells": [
  {
   "cell_type": "markdown",
   "metadata": {},
   "source": [
    "WAP to create a list of even numbers from 0 to 100\n",
    "\n"
   ]
  },
  {
   "cell_type": "code",
   "execution_count": 2,
   "metadata": {},
   "outputs": [
    {
     "name": "stdout",
     "output_type": "stream",
     "text": [
      "[2, 4, 6, 8, 10, 12, 14, 16, 18, 20, 22, 24, 26, 28, 30, 32, 34, 36, 38, 40, 42, 44, 46, 48, 50, 52, 54, 56, 58, 60, 62, 64, 66, 68, 70, 72, 74, 76, 78, 80, 82, 84, 86, 88, 90, 92, 94, 96, 98, 100]\n"
     ]
    }
   ],
   "source": [
    "evens = []\n",
    "for i in range(1,101):\n",
    "    if i % 2 == 0:\n",
    "        evens.append(i)\n",
    "print(evens)"
   ]
  },
  {
   "cell_type": "code",
   "execution_count": 1,
   "metadata": {},
   "outputs": [
    {
     "name": "stdout",
     "output_type": "stream",
     "text": [
      "[2, 4, 6, 8, 10, 12, 14, 16, 18, 20, 22, 24, 26, 28, 30, 32, 34, 36, 38, 40, 42, 44, 46, 48, 50, 52, 54, 56, 58, 60, 62, 64, 66, 68, 70, 72, 74, 76, 78, 80, 82, 84, 86, 88, 90, 92, 94, 96, 98, 100]\n"
     ]
    }
   ],
   "source": [
    "a = list(range(2,101,2))\n",
    "print(a)"
   ]
  },
  {
   "cell_type": "markdown",
   "metadata": {},
   "source": [
    "create a list with fibonacci series [0, 1, 1, 2, 3, 5, 8, 13, 21, 34, 55, 89]"
   ]
  },
  {
   "cell_type": "code",
   "execution_count": 6,
   "metadata": {},
   "outputs": [
    {
     "data": {
      "text/plain": [
       "[0, 1, 1, 2, 3, 5, 8, 13, 21, 34, 55, 89]"
      ]
     },
     "execution_count": 6,
     "metadata": {},
     "output_type": "execute_result"
    }
   ],
   "source": [
    "\n",
    "f = [0,1]\n",
    "for i in range(10):\n",
    "    f.append(f[-1]+f[-2])\n",
    "f"
   ]
  },
  {
   "cell_type": "markdown",
   "metadata": {},
   "source": [
    "wap to create a list of 10 elements and then\n",
    "\n",
    "- print the list\n",
    "- print the sum\n",
    "- print the mean\n",
    "- print the max\n",
    "- print the min"
   ]
  },
  {
   "cell_type": "code",
   "execution_count": 15,
   "metadata": {},
   "outputs": [
    {
     "name": "stdout",
     "output_type": "stream",
     "text": [
      "[1, 10, 15, 2, 52, 27, 2, 7, 612, 5]\n",
      "733\n",
      "73.3\n",
      "612\n",
      "1\n"
     ]
    }
   ],
   "source": [
    "u = [1,10,15,2,52,27,2,7,612,5]\n",
    "print(u)\n",
    "\n",
    "s=0\n",
    "for i in u:\n",
    "    s= s+i\n",
    "print(s)\n",
    "print(s/10)\n",
    "u.sort()\n",
    "print(u[-1])\n",
    "print(u[0])\n",
    "\n"
   ]
  },
  {
   "cell_type": "code",
   "execution_count": 16,
   "metadata": {},
   "outputs": [
    {
     "name": "stdout",
     "output_type": "stream",
     "text": [
      "[23, 45, 67, 34, 56, 32, 56, 67, 78, 90]\n",
      "548\n",
      "54.8\n",
      "90\n",
      "23\n"
     ]
    }
   ],
   "source": [
    "x = [23,45,67,34,56,32,56,67,78,90,]\n",
    "\n",
    "print(x)\n",
    "s = sum(x)\n",
    "print(s)\n",
    "m = sum(x) / len(x)\n",
    "print(m)\n",
    "print(max(x))\n",
    "print(min(x))"
   ]
  },
  {
   "cell_type": "markdown",
   "metadata": {},
   "source": [
    "wap to add two lists element wise and store result in 3rd list [1, 2, 3] + [4, 5, 6] = [5, 7, 9]\n",
    "\n"
   ]
  },
  {
   "cell_type": "code",
   "execution_count": 20,
   "metadata": {},
   "outputs": [
    {
     "name": "stdout",
     "output_type": "stream",
     "text": [
      "[5, 7, 9]\n"
     ]
    }
   ],
   "source": [
    "c = [1,2,3]\n",
    "k = [4,5,6]\n",
    "u = []\n",
    "for i in range(3):\n",
    "    u.append(c[i]+k[i])\n",
    "print(u)\n"
   ]
  },
  {
   "cell_type": "code",
   "execution_count": 21,
   "metadata": {},
   "outputs": [
    {
     "name": "stdout",
     "output_type": "stream",
     "text": [
      "[5, 7, 9]\n"
     ]
    }
   ],
   "source": [
    "z = []\n",
    "for i,j in zip(c,k):\n",
    "    z.append(i + j)\n",
    "print(z)"
   ]
  },
  {
   "cell_type": "markdown",
   "metadata": {},
   "source": [
    "wap to create a new list from a existing list, where each element is increased by a power of 3\n",
    "\n",
    "[1, 2, 3] -> [1, 8, 27]"
   ]
  },
  {
   "cell_type": "code",
   "execution_count": 22,
   "metadata": {},
   "outputs": [
    {
     "name": "stdout",
     "output_type": "stream",
     "text": [
      "[2, 3, 5, 1, 2, 5, 15]\n",
      "[8, 27, 125, 1, 8, 125, 3375]\n"
     ]
    }
   ],
   "source": [
    "x= [2,3,5,1,2,5,15]\n",
    "x3 = []\n",
    "for i in x:\n",
    "    x3.append(i**3)\n",
    "print(x)\n",
    "print(x3)"
   ]
  },
  {
   "cell_type": "markdown",
   "metadata": {},
   "source": [
    "wap to filter all the odd numbers from a list to create a clean list\n",
    "\n",
    "[1, 2, 3, 4, 5, 6, 7, 8, 9] -> [2, 4, 6, 8]"
   ]
  },
  {
   "cell_type": "markdown",
   "metadata": {},
   "source": []
  }
 ],
 "metadata": {
  "kernelspec": {
   "display_name": "Python 3.9.12 ('base')",
   "language": "python",
   "name": "python3"
  },
  "language_info": {
   "codemirror_mode": {
    "name": "ipython",
    "version": 3
   },
   "file_extension": ".py",
   "mimetype": "text/x-python",
   "name": "python",
   "nbconvert_exporter": "python",
   "pygments_lexer": "ipython3",
   "version": "3.9.12"
  },
  "orig_nbformat": 4,
  "vscode": {
   "interpreter": {
    "hash": "324500810f1b16834aa1bf87032153753ee365449c3fdfc2dea88bf378834d1a"
   }
  }
 },
 "nbformat": 4,
 "nbformat_minor": 2
}
